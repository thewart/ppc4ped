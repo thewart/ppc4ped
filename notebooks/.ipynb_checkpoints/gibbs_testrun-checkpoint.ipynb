{
 "cells": [
  {
   "cell_type": "markdown",
   "metadata": {},
   "source": [
    "A lot of commonly used metrics in population genetics have this form:\n",
    "\n",
    "$Y = X - X_0$\n",
    "\n",
    "Where $X$ is some quantity you compute based on your genetic data, and $X_0$ is the expected value of that quantity in an idealized population. For example, when examining population structure, $X$ might be the size of the first eigenvalue, and $X_0$ might be the size of the first eigenvalue that you would expect in a population where the allele frequencies were the same but every animal were genetically independent. So $Y$ is the \"excess\" eigenvalue.\n",
    "\n",
    "But in our situation, our \"idealized population\" we want to compare our data against is not one where every animal is genetically independent. It's one where the animals are related as in our pedigree! So the natural thing to do is to redefine $X_0$ so that it is the value we'd expect from an idealized population where all of the founding animals are genetically independent, but all of the subsequent animals are generated according the known pedigree.\n",
    "\n",
    "In the case of looking at population structure, we can proceed in the following steps:\n",
    "1. Compute $X$ based on the Cayo genotypes.\n",
    "2. Do inference about the genotypes of the founders of the Cayo pedigree, and the allele frequencies in the founding population.\n",
    "3. Take those founding population allele frequencies, and use those to simulate a population with the same allele frequencies and the same pedigree.\n",
    "4. Calculate the posterior distribution of $X_0$ in those samples, and compare it to the observed $X$.\n",
    "\n",
    "If $X$ is in the range of typical $X_0$ values, then your model seems adequate (e.g., for population structure, the known pedigree can explain the observed population structure). If $X$ is outside the typical range of $X_0$, then your model may be inadequate (e.g., there is more population structure than you would expect based on the pedigree). In Bayes world this is called a posterior predictive check.\n",
    "\n",
    "So, this is arguably the \"right\" thing to be doing when quantifying LD and population structure. But the main reason I'm bothering with this is that this is also allows us to fit and compare models about the genetic makeup of the founding population -- which is exactly what we're going to need to do for Pate's FMR1 paper. We can also use it for imputing genotypes of other monkeys from the pedigree. So I think this will be a useful set of tools to have available."
   ]
  },
  {
   "cell_type": "markdown",
   "metadata": {},
   "source": [
    "So far I've coded up through step 3. That is, I have the machinery to do inference on the base population of the Cayo pedigree and generate \"idealized\" populations based on that, and I'm reasonably certain that it works. The final step is pretty trivial. Below I'm just demonstrating that the machinery I've coded up is working as expected and recovers the parameters of an simulated data set."
   ]
  },
  {
   "cell_type": "markdown",
   "metadata": {},
   "source": [
    "First we load up our necessary functions. Then we generate a pedigree with a founding population of 30 animals, which breeds for 5 generations with a maximum generation size of 100 animals. Each row is an animal; the first column is the animal's ID (here just the row number) and the second and third columns give the IDs of the father and mother respectively. "
   ]
  },
  {
   "cell_type": "code",
   "execution_count": 2,
   "metadata": {
    "collapsed": false
   },
   "outputs": [
    {
     "data": {
      "text/plain": [
       "490x3 Array{Int64,2}:\n",
       "   1    0    0\n",
       "   2    0    0\n",
       "   3    0    0\n",
       "   4    0    0\n",
       "   5    0    0\n",
       "   6    0    0\n",
       "   7    0    0\n",
       "   8    0    0\n",
       "   9    0    0\n",
       "  10    0    0\n",
       "  11    0    0\n",
       "  12    0    0\n",
       "  13    0    0\n",
       "   ⋮          \n",
       " 479  369  312\n",
       " 480  355  326\n",
       " 481  381  378\n",
       " 482  389  360\n",
       " 483  365  348\n",
       " 484  371  296\n",
       " 485  353  390\n",
       " 486  293  326\n",
       " 487  293  390\n",
       " 488  331  380\n",
       " 489  331  310\n",
       " 490  363  346"
      ]
     },
     "execution_count": 2,
     "metadata": {},
     "output_type": "execute_result"
    }
   ],
   "source": [
    "using Distributions\n",
    "include(\"../singleallelesampler.jl\") #functions for randomly generating a pedigree and genotypes for that pedigree\n",
    "\n",
    "ped = pedigree_pedsim(30,6,100)"
   ]
  },
  {
   "cell_type": "markdown",
   "metadata": {},
   "source": [
    "Next we sample genotypes for the founding population (minor allele frequency of 0.25) and simulate those genotypes percolating through the pedigree to get pedigree-consistent genotypes."
   ]
  },
  {
   "cell_type": "code",
   "execution_count": 6,
   "metadata": {
    "collapsed": false
   },
   "outputs": [
    {
     "data": {
      "text/plain": [
       "490x1 Array{Int64,2}:\n",
       " 1\n",
       " 1\n",
       " 0\n",
       " 0\n",
       " 0\n",
       " 0\n",
       " 2\n",
       " 0\n",
       " 1\n",
       " 2\n",
       " 0\n",
       " 0\n",
       " 0\n",
       " ⋮\n",
       " 0\n",
       " 0\n",
       " 0\n",
       " 0\n",
       " 0\n",
       " 0\n",
       " 0\n",
       " 0\n",
       " 0\n",
       " 1\n",
       " 0\n",
       " 1"
      ]
     },
     "execution_count": 6,
     "metadata": {},
     "output_type": "execute_result"
    }
   ],
   "source": [
    "geno, z = pedigree_genosim(ped,0.25);\n",
    "geno"
   ]
  },
  {
   "cell_type": "markdown",
   "metadata": {},
   "source": [
    "Now we're going to load up our gibbs sampler and present it with the easiest possible inference problem: given ALL of the genotype data, infer the minor allele frequency of the founding population. This is not something we would ever bother doing with actual data. This is just to check that a) the damn thing works, and b) this is going to run quickly enough that it will be feasible with our data set."
   ]
  },
  {
   "cell_type": "code",
   "execution_count": 9,
   "metadata": {
    "collapsed": false
   },
   "outputs": [
    {
     "name": "stdout",
     "output_type": "stream",
     "text": [
      "elapsed time: 18.933585878 seconds (11635131816 bytes allocated, 31.21% gc time)\n"
     ]
    }
   ],
   "source": [
    "include(\"singleallelegibbs.jl\") #posterior inference \n",
    "@time gs,maf,ϵ,z,badz =  pedigree_genogibbs(geno,ped,1000);"
   ]
  },
  {
   "cell_type": "markdown",
   "metadata": {},
   "source": [
    "19 seconds to generate 1000 samples from the posterior of the genotypes. Our pedigree is about 10x larger than this sample pedigree and we have 250 loci instead of one. So, worst case scenario for run time in hours is..."
   ]
  },
  {
   "cell_type": "code",
   "execution_count": 10,
   "metadata": {
    "collapsed": false
   },
   "outputs": [
    {
     "data": {
      "text/plain": [
       "13.194444444444445"
      ]
     },
     "execution_count": 10,
     "metadata": {},
     "output_type": "execute_result"
    }
   ],
   "source": [
    "19*10*250/(60*60)"
   ]
  },
  {
   "cell_type": "markdown",
   "metadata": {},
   "source": [
    "Which is not too bad. It's an overnight job basically, assuming I can't get any speed improvements. Though obviously this isn't going to scale to full genome data sets!\n",
    "\n",
    "In any case, let's do some checks to make sure the sampler is doing the right thing. First, because our gibbs sampler starts out at a random \"true\" genotype, and allows for the possibility of a mistake in the genotype data (i.e. a missmatch between the observed and true genotype), if we were really unlucky the algorithm might not actually get the \"true\" genotypes it infers to match up with the observed genotypes.\n",
    "\n",
    "We'll test this by looking at, for each monkey, the difference between the expected phenotype inferred by the sampler against the observed genotypes."
   ]
  },
  {
   "cell_type": "code",
   "execution_count": 12,
   "metadata": {
    "collapsed": false
   },
   "outputs": [
    {
     "data": {
      "image/png": "[encoded data removed]",
      "text/plain": [
       "Figure(PyObject <matplotlib.figure.Figure object at 0x7f0473715610>)"
      ]
     },
     "metadata": {},
     "output_type": "display_data"
    }
   ],
   "source": [
    "using PyPlot\n",
    "PyPlot.hist(geno-sum(gs[:,[1:500]],2)/500);"
   ]
  },
  {
   "cell_type": "markdown",
   "metadata": {},
   "source": [
    "Very small differences. So our inference algorithm is getting to the correct \"true\" genotypes. That's a relief!\n",
    "\n",
    "Next, we'll look at if the inferred minor allele frequencies match up with the true minor allele frequency we used to generate the genotypes."
   ]
  },
  {
   "cell_type": "code",
   "execution_count": 22,
   "metadata": {
    "collapsed": false
   },
   "outputs": [
    {
     "data": {
      "image/png": "[encoded data removed]",
      "text/plain": [
       "Figure(PyObject <matplotlib.figure.Figure object at 0x7f04641cafd0>)"
      ]
     },
     "metadata": {},
     "output_type": "display_data"
    }
   ],
   "source": [
    "PyPlot.hist(maf[501:1000]);"
   ]
  },
  {
   "cell_type": "markdown",
   "metadata": {},
   "source": [
    "This is the posterior distribution for the minor allele frequency in the founding population. It's centered at the right value (0.25), though it is fairly broad. It's not surprising that we cannot be super certain about this quantity, however, because the most informative individuals are of course the founders, and we only have 30 of them."
   ]
  },
  {
   "cell_type": "markdown",
   "metadata": {},
   "source": [
    "So I'm pretty confident that it works. I want to check and see how it performs in a situation, like in Cayo, where the vast majority of the animals in the pedigree are ungenotyped. It may be that we'll need to run the inference algorithm longer to get stable estimates in that case."
   ]
  }
 ],
 "metadata": {
  "kernelspec": {
   "display_name": "Julia 0.3.6",
   "language": "julia",
   "name": "julia 0.3"
  },
  "language_info": {
   "name": "julia",
   "version": "0.3.6"
  }
 },
 "nbformat": 4,
 "nbformat_minor": 0
}
