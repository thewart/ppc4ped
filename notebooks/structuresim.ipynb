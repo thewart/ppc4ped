{
 "cells": [
  {
   "cell_type": "code",
   "execution_count": 1,
   "metadata": {
    "collapsed": true
   },
   "outputs": [],
   "source": [
    "using Distributions\n",
    "using MultivariateStats\n",
    "include(\"../multiallelegibbs.jl\");\n",
    "include(\"../singleallelesampler.jl\");"
   ]
  },
  {
   "cell_type": "code",
   "execution_count": 6,
   "metadata": {
    "collapsed": true
   },
   "outputs": [],
   "source": [
    "init = 20;\n",
    "ngen = 3;\n",
    "popcap=50;\n",
    "ped = pedigree_pedsim(init,ngen,popcap);"
   ]
  },
  {
   "cell_type": "code",
   "execution_count": 12,
   "metadata": {
    "collapsed": false
   },
   "outputs": [],
   "source": [
    "n = size(ped)[1];\n",
    "m = 50;\n",
    "geno = Array(Int64,(n,m));\n",
    "maf = rand(m)/2;\n",
    "for i in 1:m\n",
    "    geno[:,i] = pedigree_genosim(ped,maf[i])[1];\n",
    "end"
   ]
  },
  {
   "cell_type": "code",
   "execution_count": 21,
   "metadata": {
    "collapsed": false
   },
   "outputs": [],
   "source": [
    "genobs = Array(Int64,(n,m));\n",
    "genobs[:,:] = geno;\n",
    "genobs[1:(n-popcap),:] = -1;"
   ]
  },
  {
   "cell_type": "code",
   "execution_count": 23,
   "metadata": {
    "collapsed": false
   },
   "outputs": [
    {
     "data": {
      "text/plain": [
       "110x50 Array{Int64,2}:\n",
       " 1  0  0  0  0  0  0  0  1  0  1  0  2  …  0  0  0  0  1  0  2  0  0  0  1  0\n",
       " 0  0  1  1  0  0  0  1  0  1  0  0  1     0  1  0  1  1  1  0  0  0  1  2  2\n",
       " 0  0  2  0  1  0  1  0  0  0  1  0  0     1  0  1  1  1  1  0  0  0  0  1  0\n",
       " 1  0  0  1  0  0  1  0  1  0  0  0  0     1  1  1  0  0  1  1  0  2  1  0  0\n",
       " 1  0  1  0  1  0  1  0  0  0  0  0  0     1  0  0  0  0  0  2  0  2  0  0  0\n",
       " 0  0  1  1  1  0  2  0  1  1  2  0  0  …  0  0  0  0  0  0  1  0  1  2  0  0\n",
       " 1  0  1  1  0  0  1  0  0  1  0  0  1     1  0  0  0  0  0  0  0  1  0  1  1\n",
       " 1  0  1  1  1  0  2  0  0  0  0  0  0     0  0  0  1  0  1  0  0  2  1  1  0\n",
       " 0  0  1  0  0  0  1  0  1  2  1  0  1     1  0  1  0  0  0  1  0  1  0  1  0\n",
       " 0  0  0  1  0  0  1  0  0  2  0  0  0     0  0  2  1  0  0  1  1  2  0  1  0\n",
       " 0  0  1  0  1  0  0  0  2  1  1  0  1  …  1  0  0  1  1  2  1  0  0  0  0  0\n",
       " 1  0  1  2  2  0  1  0  1  0  0  0  0     0  0  1  0  0  0  1  0  0  1  0  0\n",
       " 0  0  0  0  0  0  2  0  1  0  1  0  1     0  0  0  0  1  0  0  1  0  1  0  0\n",
       " ⋮              ⋮              ⋮        ⋱        ⋮              ⋮            \n",
       " 0  0  0  0  1  0  0  0  1  1  1  0  0     0  0  0  1  1  1  0  0  1  1  0  0\n",
       " 0  0  2  0  1  0  0  0  0  1  1  0  1     2  0  1  1  0  1  0  0  0  0  1  0\n",
       " 1  0  0  0  0  0  1  0  1  0  0  0  1  …  0  0  2  2  1  0  0  2  1  0  2  0\n",
       " 1  0  1  2  1  0  0  0  1  1  0  0  2     0  0  0  0  0  0  0  0  1  0  1  0\n",
       " 1  0  0  0  0  0  1  0  1  1  1  0  1     0  0  1  1  0  0  1  0  2  0  0  1\n",
       " 0  0  1  0  0  0  0  0  0  1  0  0  0     0  0  2  0  1  0  1  1  1  0  1  0\n",
       " 0  0  2  0  0  0  0  0  0  1  1  0  1     0  0  0  0  0  1  1  1  2  1  1  0\n",
       " 0  0  0  0  1  0  1  0  0  0  1  0  1  …  2  0  1  0  0  1  0  0  0  1  0  0\n",
       " 0  0  1  0  1  0  2  0  0  2  0  0  2     2  0  0  0  0  1  0  0  1  0  0  0\n",
       " 0  0  1  1  1  0  0  0  0  0  0  0  0     1  0  1  0  0  1  2  0  1  1  1  0\n",
       " 1  0  0  0  1  0  0  0  1  1  0  0  2     1  0  2  2  0  0  0  1  0  0  1  0\n",
       " 0  0  1  0  1  0  1  0  0  1  0  0  1     1  0  0  1  0  0  2  0  0  0  1  0"
      ]
     },
     "execution_count": 23,
     "metadata": {},
     "output_type": "execute_result"
    }
   ],
   "source": [
    "geno"
   ]
  }
 ],
 "metadata": {
  "kernelspec": {
   "display_name": "Julia 0.3.6",
   "language": "julia",
   "name": "julia 0.3"
  },
  "language_info": {
   "name": "julia",
   "version": "0.3.6"
  }
 },
 "nbformat": 4,
 "nbformat_minor": 0
}
