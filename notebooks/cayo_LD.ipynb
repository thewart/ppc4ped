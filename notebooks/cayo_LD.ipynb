{
 "cells": [
  {
   "cell_type": "code",
   "execution_count": 1,
   "metadata": {
    "collapsed": false
   },
   "outputs": [],
   "source": [
    "using RCall,Gadfly,Distributions\n",
    "include(\"../multiallelegibbs.jl\");\n",
    "include(\"../eigenanlaysis.jl\");\n",
    "include(\"../singleallelesampler.jl\");"
   ]
  },
  {
   "cell_type": "code",
   "execution_count": 2,
   "metadata": {
    "collapsed": false
   },
   "outputs": [],
   "source": [
    "rcopy(\"type='LD'\")\n",
    "rcopy(\"source('../pedR2jl.R')\");\n",
    "geno = rcopy(\"X\");\n",
    "ped = rcopy(\"numped\");\n",
    "dist = rcopy(\"dist\");\n",
    "rcopy(\"rm(list=ls())\");\n",
    "rcopy(\"gc()\");"
   ]
  },
  {
   "cell_type": "code",
   "execution_count": 7,
   "metadata": {
    "collapsed": false
   },
   "outputs": [],
   "source": [
    "n,m = size(geno)\n",
    "iter = 10000;\n",
    "thin = 20;\n",
    "nsamp = length(thin:thin:iter);"
   ]
  },
  {
   "cell_type": "code",
   "execution_count": 8,
   "metadata": {
    "collapsed": false
   },
   "outputs": [
    {
     "name": "stdout",
     "output_type": "stream",
     "text": [
      "elapsed time: 17500.143977137 seconds (5417030375408 bytes allocated, 33.02% gc time)\n"
     ]
    }
   ],
   "source": [
    "@time pedfit = pedigree_genogibbs(geno,ped,iter,thin);"
   ]
  },
  {
   "cell_type": "code",
   "execution_count": 10,
   "metadata": {
    "collapsed": true
   },
   "outputs": [],
   "source": [
    "path = \"/home/seth/analysis/ppc4ped/LD_\";\n",
    "writecsv(string(path,\"geno.csv\"),pedfit[4][:]);\n",
    "writecsv(string(path,\"maf.csv\"),pedfit[2]);\n",
    "writecsv(string(path,\"errate.csv\"),pedfit[3]);\n",
    "writecsv(string(path,\"dims.csv\"),[n,m,nsamp]);"
   ]
  },
  {
   "cell_type": "code",
   "execution_count": 3,
   "metadata": {
    "collapsed": false
   },
   "outputs": [],
   "source": [
    "path = \"/home/seth/analysis/ppc4ped/\";\n",
    "mafs = readcsv(string(path,\"eigenanalysis_maf.csv\"),Float64);\n",
    "gs = readcsv(string(path,\"eigenanalysis_geno.csv\"),Int8);\n",
    "errs = readcsv(string(path,\"eigenanalysis_errate.csv\"));\n",
    "\n",
    "gs = reshape(gs,(2,n,m,nsamp));\n",
    "gs = reshape(sum(gs,1),(n,m,nsamp))\n",
    "pedfit = (gs,mafs,errs);"
   ]
  },
  {
   "cell_type": "code",
   "execution_count": 4,
   "metadata": {
    "collapsed": false
   },
   "outputs": [
    {
     "data": {
      "text/plain": [
       "(944,70,500)"
      ]
     },
     "execution_count": 4,
     "metadata": {},
     "output_type": "execute_result"
    }
   ],
   "source": [
    "for t in 1:500\n",
    "    "
   ]
  }
 ],
 "metadata": {
  "kernelspec": {
   "display_name": "Julia 0.3.6",
   "language": "julia",
   "name": "julia 0.3"
  },
  "language_info": {
   "name": "julia",
   "version": "0.3.7"
  }
 },
 "nbformat": 4,
 "nbformat_minor": 0
}
