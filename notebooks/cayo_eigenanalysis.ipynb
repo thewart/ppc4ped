{
 "cells": [
  {
   "cell_type": "code",
   "execution_count": 1,
   "metadata": {
    "collapsed": false
   },
   "outputs": [],
   "source": [
    "using RCall, Distributions, Gadfly, MultivariateStats\n",
    "include(\"../multiallelegibbs.jl\");\n",
    "include(\"../eigenanlaysis.jl\");\n",
    "include(\"../singleallelesampler.jl\");"
   ]
  },
  {
   "cell_type": "code",
   "execution_count": 2,
   "metadata": {
    "collapsed": false
   },
   "outputs": [],
   "source": [
    "rcopy(\"source('../pedR2jl.R')\");"
   ]
  },
  {
   "cell_type": "code",
   "execution_count": 3,
   "metadata": {
    "collapsed": false
   },
   "outputs": [],
   "source": [
    "geno = rcopy(\"X\");\n",
    "ped = rcopy(\"numped\");\n",
    "rcopy(\"rm(list=ls())\");\n",
    "rcopy(\"gc()\");"
   ]
  },
  {
   "cell_type": "code",
   "execution_count": 8,
   "metadata": {
    "collapsed": false
   },
   "outputs": [],
   "source": [
    "n,m = size(geno);\n",
    "iter = 10000;\n",
    "thin = 20;\n",
    "nsamp = length(thin:thin:iter);"
   ]
  },
  {
   "cell_type": "code",
   "execution_count": 9,
   "metadata": {
    "collapsed": false
   },
   "outputs": [
    {
     "name": "stdout",
     "output_type": "stream",
     "text": [
      "elapsed time: 525.56644283 seconds (160393079528 bytes allocated, 33.32% gc time)\n"
     ]
    }
   ],
   "source": [
    "@time pedfit = pedigree_genogibbs(geno,ped,iter,thin);"
   ]
  },
  {
   "cell_type": "code",
   "execution_count": 7,
   "metadata": {
    "collapsed": false
   },
   "outputs": [
    {
     "name": "stdout",
     "output_type": "stream",
     "text": [
      "Genotype array: (2,944,70,100)\n",
      "MAF array: (70,100)\n",
      "Error rate array: (100,)"
     ]
    }
   ],
   "source": [
    "print(\"Genotype array: \",size(pedfit[4]),\"\\n\")\n",
    "print(\"MAF array: \",size(pedfit[2]),\"\\n\")\n",
    "print(\"Error rate array: \",size(pedfit[3]))"
   ]
  },
  {
   "cell_type": "code",
   "execution_count": 8,
   "metadata": {
    "collapsed": false
   },
   "outputs": [],
   "source": [
    "path = \"/home/seth/analysis/ppc4ped/\";\n",
    "writecsv(string(path,\"eigenanalysis_geno.csv\"),pedfit[4][:]);\n",
    "writecsv(string(path,\"eigenanalysis_maf.csv\"),pedfit[2]);\n",
    "writecsv(string(path,\"eigenanalysis_errate.csv\"),pedfit[3]);"
   ]
  },
  {
   "cell_type": "markdown",
   "metadata": {},
   "source": [
    "If necessary, load samples back up rather than rerunning the sampler."
   ]
  },
  {
   "cell_type": "code",
   "execution_count": 38,
   "metadata": {
    "collapsed": false
   },
   "outputs": [],
   "source": [
    "path = \"/home/seth/analysis/ppc4ped/\";\n",
    "mafs = readcsv(string(path,\"eigenanalysis_maf.csv\"),Float64);\n",
    "gs = readcsv(string(path,\"eigenanalysis_geno.csv\"),Int8);\n",
    "errs = readcsv(string(path,\"eigenanalysis_errate.csv\"));\n",
    "\n",
    "gs = reshape(gs,(2,n,m,nsamp));\n",
    "gs = reshape(sum(gs,1),(n,m,nsamp))\n",
    "pedfit = (gs,mafs,errs);"
   ]
  },
  {
   "cell_type": "code",
   "execution_count": 67,
   "metadata": {
    "collapsed": false
   },
   "outputs": [],
   "source": [
    "genotyped = (sum(geno.!=-1,2).>1)[:];\n",
    "m = size(geno,2);\n",
    "ng = countnz(genotyped);\n",
    "nsim = 10;\n",
    "\n",
    "nullgeno = Array(Int8,(ng,m,nsim));\n",
    "for t in 1:nsim\n",
    "    for j in 1:m\n",
    "        nullgeno[:,j,t] = rand(Binomial(2,pedfit[2][j,t]),ng);\n",
    "    end\n",
    "end\n",
    "\n",
    "ppgeno = Array(Int8,(n,m,nsim));\n",
    "for t in 1:nsim\n",
    "    for j in 1:m\n",
    "        ppgeno[:,j,t] = pedigree_genosim(ped,pedfit[2][j,t])[1];\n",
    "    end\n",
    "end\n",
    "ppgeno = ppgeno[genotyped,:,:];"
   ]
  },
  {
   "cell_type": "code",
   "execution_count": 70,
   "metadata": {
    "collapsed": false
   },
   "outputs": [],
   "source": [
    "peig = pedigree_eigenanalysis(pedfit[1][genotyped,:,:]);\n",
    "ppeig = pedigree_eigenanalysis(ppgeno);\n",
    "nulleig = pedigree_eigenanalysis(nullgeno);"
   ]
  }
 ],
 "metadata": {
  "kernelspec": {
   "display_name": "Julia 0.3.6",
   "language": "julia",
   "name": "julia 0.3"
  },
  "language_info": {
   "name": "julia",
   "version": "0.3.7"
  }
 },
 "nbformat": 4,
 "nbformat_minor": 0
}
