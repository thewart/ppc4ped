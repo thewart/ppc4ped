{
 "cells": [
  {
   "cell_type": "code",
   "execution_count": 2,
   "metadata": {
    "collapsed": false
   },
   "outputs": [],
   "source": [
    "using RCall, Distributions, Gadfly, MultivariateStats\n",
    "cd(\"..\")\n",
    "include(\"multiallelegibbs.jl\");\n",
    "include(\"eigenanlaysis.jl\");\n",
    "include(\"singleallelesampler.jl\");"
   ]
  },
  {
   "cell_type": "code",
   "execution_count": 3,
   "metadata": {
    "collapsed": false
   },
   "outputs": [
    {
     "name": "stderr",
     "output_type": "stream",
     "text": [
      "Loading required package: kinship2\n",
      "Loading required package: Matrix\n",
      "Loading required package: quadprog\n"
     ]
    }
   ],
   "source": [
    "rcopy(\"source('pedR2jl.R')\");"
   ]
  },
  {
   "cell_type": "code",
   "execution_count": 5,
   "metadata": {
    "collapsed": false
   },
   "outputs": [],
   "source": [
    "geno = rcopy(\"X\");\n",
    "ped = rcopy(\"numped\");\n",
    "rcopy(\"rm(list=ls())\");\n",
    "rcopy(\"gc()\");"
   ]
  },
  {
   "cell_type": "code",
   "execution_count": null,
   "metadata": {
    "collapsed": false
   },
   "outputs": [],
   "source": [
    "@time pedfit = pedigree_genogibbs(geno,ped,100);"
   ]
  },
  {
   "cell_type": "code",
   "execution_count": 25,
   "metadata": {
    "collapsed": false
   },
   "outputs": [
    {
     "data": {
      "text/plain": [
       "4.111111111111111"
      ]
     },
     "execution_count": 25,
     "metadata": {},
     "output_type": "execute_result"
    }
   ],
   "source": []
  }
 ],
 "metadata": {
  "kernelspec": {
   "display_name": "Julia 0.3.6",
   "language": "julia",
   "name": "julia 0.3"
  },
  "language_info": {
   "name": "julia",
   "version": "0.3.7"
  }
 },
 "nbformat": 4,
 "nbformat_minor": 0
}
